{
 "cells": [
  {
   "cell_type": "code",
   "execution_count": 31,
   "metadata": {},
   "outputs": [],
   "source": [
    "# Nama : Jentrisi Priyatno\n",
    "# NIM : 1301178451\n",
    "# Kelas : IF-41-GAB02\n",
    "\n",
    "# mengimport csv agar bisa membaca dan membuat file cvs\n",
    "import csv\n",
    "# membuat file tampungan untuk datafile\n",
    "datafile = []\n",
    "# membuka file csv dengan nama test.csv dan memasukannya kedalam file datafile diatas\n",
    "with open('test.csv') as csvfile:\n",
    "    line = csv.reader(csvfile)\n",
    "    datalist = list(line)\n",
    "    for row in range(53):\n",
    "        for column in range(5):\n",
    "            datalist[row][column] = datalist[row][column]\n",
    "        datafile.append(datalist[row])\n",
    "# mmbuat file tampungan untuk menampung hasil dari persyaratan yang ditentukan\n",
    "result = []\n",
    "# membuat perulangan untuk menentukan nama hero termasuk dalam role yang mana\n",
    "for row in range(1, len(datafile)):\n",
    "    # hero yang termasuk marksman\n",
    "    if int(datafile[row][1]) >= 270:\n",
    "        result.append([datafile[row][0], 'MARKSMAN'])\n",
    "    # hero yang termasuk assassin\n",
    "    elif int(datafile[row][2]) >= 121:\n",
    "        result.append([datafile[row][0], 'ASSASSIN'])\n",
    "    # hero yang termasuk tank\n",
    "    elif int(datafile[row][3]) >= 25:\n",
    "        result.append([datafile[row][0], 'TANK'])\n",
    "    # hero yang termasuk fighter\n",
    "    elif int(datafile[row][4]) >= 2580:\n",
    "        result.append([datafile[row][0], 'FIGHTER'])\n",
    "    # hero yang termasuk mage\n",
    "    elif int(datafile[row][5]) >= 500:\n",
    "        result.append([datafile[row][0], 'MAGE'])\n",
    "    # hero yang termasuk support\n",
    "    else:\n",
    "        result.append([datafile[row][0], 'SUPPORT'])\n",
    "# memasukkan header untuk file tampungan hasil diatas\n",
    "result.insert(0, ['name', 'role'])\n",
    "# membuat file csv baru dengan nama prediction.csv dan menyimpan datafile diatas\n",
    "with open('prediction.csv', 'w', newline='') as newcsv:\n",
    "    newdata = csv.writer(newcsv)\n",
    "    for newrow in range(len(result)):\n",
    "        newdata.writerow(result[newrow])"
   ]
  },
  {
   "cell_type": "code",
   "execution_count": null,
   "metadata": {
    "collapsed": true
   },
   "outputs": [],
   "source": []
  }
 ],
 "metadata": {
  "kernelspec": {
   "display_name": "Python 3",
   "language": "python",
   "name": "python3"
  },
  "language_info": {
   "codemirror_mode": {
    "name": "ipython",
    "version": 3
   },
   "file_extension": ".py",
   "mimetype": "text/x-python",
   "name": "python",
   "nbconvert_exporter": "python",
   "pygments_lexer": "ipython3",
   "version": "3.6.3"
  }
 },
 "nbformat": 4,
 "nbformat_minor": 2
}
